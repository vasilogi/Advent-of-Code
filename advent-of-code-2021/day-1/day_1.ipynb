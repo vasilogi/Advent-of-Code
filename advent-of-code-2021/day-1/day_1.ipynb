{
 "cells": [
  {
   "cell_type": "markdown",
   "id": "6ee22770",
   "metadata": {},
   "source": [
    "### User-defined functions"
   ]
  },
  {
   "cell_type": "code",
   "execution_count": 1,
   "id": "47cb6426",
   "metadata": {},
   "outputs": [],
   "source": [
    "def positive_edge(a,b):\n",
    "    # this function returns true if there is positive edge\n",
    "    # and false otherwise\n",
    "    #\n",
    "    # a,b: numerical values\n",
    "    if a > b:\n",
    "        return True\n",
    "    else:\n",
    "        return False"
   ]
  },
  {
   "cell_type": "code",
   "execution_count": 18,
   "id": "70950338",
   "metadata": {},
   "outputs": [],
   "source": [
    "import pandas as pd\n",
    "import os\n",
    "\n",
    "# get current working directory\n",
    "CWD = os.getcwd()\n",
    "# define the filepath of input\n",
    "input_file = 'input.csv'\n",
    "input_file = os.path.join(CWD,input_file)\n",
    "# read csv as data-frame\n",
    "df = pd.read_csv(input_file, engine='c', header=None, names=['depth'])\n",
    "# get depth to a list\n",
    "depth = df['depth'].to_list()"
   ]
  },
  {
   "cell_type": "markdown",
   "id": "a87cf12b",
   "metadata": {},
   "source": [
    "### Part A"
   ]
  },
  {
   "cell_type": "code",
   "execution_count": 22,
   "id": "2c1da22d",
   "metadata": {},
   "outputs": [],
   "source": [
    "counter = 0\n",
    "# loop over the depth measures\n",
    "for i in range(1,len(depth)):\n",
    "    # count for positive edge\n",
    "    if positive_edge(depth[i],depth[i-1]):\n",
    "        counter += 1"
   ]
  },
  {
   "cell_type": "code",
   "execution_count": 23,
   "id": "9a8ad1ae",
   "metadata": {},
   "outputs": [
    {
     "name": "stdout",
     "output_type": "stream",
     "text": [
      "there are 1624 measurements that are larger than the previous measurement\n"
     ]
    }
   ],
   "source": [
    "print('there are ' + str(counter) + ' measurements that are larger than the previous measurement')"
   ]
  },
  {
   "cell_type": "markdown",
   "id": "4681495d",
   "metadata": {},
   "source": [
    "### Part B"
   ]
  },
  {
   "cell_type": "code",
   "execution_count": 131,
   "id": "d3010622",
   "metadata": {},
   "outputs": [],
   "source": [
    "# sliding window\n",
    "window_size = 3\n",
    "N = len(depth) - 1 # the last index of the depth array\n",
    "\n",
    "# get the first 3 elements in an array\n",
    "triplet = depth[0:window_size]\n",
    "# loop over the depth measures\n",
    "for i in range(1,len(depth)):\n",
    "    # \"Stop when there aren't enough measurements left to create a new three-measurement sum\"\n",
    "    if ((N - i) >= 2):\n",
    "        # stack the triplets vertically\n",
    "        triplet = np.vstack((triplet,depth[i:i+window_size]))"
   ]
  },
  {
   "cell_type": "code",
   "execution_count": 30,
   "id": "80916da8",
   "metadata": {},
   "outputs": [
    {
     "data": {
      "text/plain": [
       "[197, 201, 204]"
      ]
     },
     "execution_count": 30,
     "metadata": {},
     "output_type": "execute_result"
    }
   ],
   "source": [
    "# sliding window\n",
    "window_size = 3\n",
    "N = len(depth) - 1 # the last index of the depth array\n",
    "\n",
    "# get the first 3 elements in an array\n",
    "triplet = depth[0:window_size]\n",
    "# calculate the sum of the first triplet and add it into an array\n",
    "triplet_sums = [sum(triplet)]\n",
    "\n",
    "# loop over the depth measures\n",
    "for i in range(1,len(depth)):\n",
    "    # \"Stop when there aren't enough measurements left to create a new three-measurement sum\"\n",
    "    if ((N - i) >= 2):\n",
    "        # stack the triplets vertically\n",
    "        triplet = np.vstack((triplet,depth[i:i+window_size]))"
   ]
  },
  {
   "cell_type": "code",
   "execution_count": 132,
   "id": "c20e4c3d",
   "metadata": {},
   "outputs": [],
   "source": [
    "counter = 0\n",
    "# loop over the depth measures\n",
    "for i in range(1,len(triplet)):\n",
    "    # count for positive edge\n",
    "    if positive_edge(sum(triplet[i]),sum(triplet[i-1])):\n",
    "        counter += 1"
   ]
  },
  {
   "cell_type": "code",
   "execution_count": 133,
   "id": "bce2b01b",
   "metadata": {},
   "outputs": [
    {
     "name": "stdout",
     "output_type": "stream",
     "text": [
      "there are 1653 measurements that are larger than the previous measurement\n"
     ]
    }
   ],
   "source": [
    "print('there are ' + str(counter) + ' measurements that are larger than the previous measurement')"
   ]
  }
 ],
 "metadata": {
  "kernelspec": {
   "display_name": "Python 3.9.12",
   "language": "python",
   "name": "python3"
  },
  "language_info": {
   "codemirror_mode": {
    "name": "ipython",
    "version": 3
   },
   "file_extension": ".py",
   "mimetype": "text/x-python",
   "name": "python",
   "nbconvert_exporter": "python",
   "pygments_lexer": "ipython3",
   "version": "3.9.12"
  },
  "vscode": {
   "interpreter": {
    "hash": "e64443f533bf13e4cacc93d5291be4aa4e1c97b9f605c09c034e57dcc8bfba3c"
   }
  }
 },
 "nbformat": 4,
 "nbformat_minor": 5
}
